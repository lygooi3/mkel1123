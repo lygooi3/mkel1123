{
 "cells": [
  {
   "cell_type": "code",
   "execution_count": 26,
   "id": "b43d2f80",
   "metadata": {},
   "outputs": [],
   "source": [
    "import tensorflow as tf\n",
    "import random\n",
    "import pandas\n",
    "import csv\n",
    "import pandas as pd\n",
    "import numpy as np\n",
    "import matplotlib.pyplot as plt\n",
    "from tensorflow.keras import layers\n",
    "from tensorflow.keras.layers import Dense"
   ]
  },
  {
   "cell_type": "code",
   "execution_count": 27,
   "id": "36449a36",
   "metadata": {},
   "outputs": [
    {
     "name": "stdout",
     "output_type": "stream",
     "text": [
      "     oxygen  bpm  temp    hrv  final\n",
      "0        96   70  38.9  67.60      1\n",
      "1        93   54  36.2  40.46      1\n",
      "2       100  121  38.4  61.68      1\n",
      "3        94  113  37.9  47.77      1\n",
      "4        92   43  39.6  42.03      2\n",
      "..      ...  ...   ...    ...    ...\n",
      "995      93   98  37.2  48.12      1\n",
      "996      97   86  38.6  49.70      1\n",
      "997      97  137  37.4  50.34      2\n",
      "998      93   71  38.6  48.41      1\n",
      "999      92   50  38.2  46.80      2\n",
      "\n",
      "[1000 rows x 5 columns]\n",
      "[[ 96.    70.    38.9   67.6 ]\n",
      " [ 93.    54.    36.2   40.46]\n",
      " [100.   121.    38.4   61.68]\n",
      " ...\n",
      " [ 97.   137.    37.4   50.34]\n",
      " [ 93.    71.    38.6   48.41]\n",
      " [ 92.    50.    38.2   46.8 ]]\n",
      "0      1\n",
      "1      1\n",
      "2      1\n",
      "3      1\n",
      "4      2\n",
      "      ..\n",
      "995    1\n",
      "996    1\n",
      "997    2\n",
      "998    1\n",
      "999    2\n",
      "Name: final, Length: 1000, dtype: int64\n"
     ]
    }
   ],
   "source": [
    "#Data_collecting and pre_processing\n",
    "headers=['oxygen', 'bpm', 'temp', 'hrv', 'final']\n",
    "#data from csv\n",
    "sample=pd.read_csv(\"C:\\\\Mtech\\\\advanced_microprocessor_systems\\\\Assignment\\\\sample.csv\")\n",
    "print(sample)\n",
    "#create result set\n",
    "sample_labels = sample.pop('final')\n",
    "sample_features = sample.copy()\n",
    "#create features set\n",
    "sample_features = np.array(sample_features)\n",
    "#print features and result\n",
    "print(sample_features)\n",
    "print(sample_labels)"
   ]
  },
  {
   "cell_type": "code",
   "execution_count": 36,
   "id": "d1d3288b",
   "metadata": {
    "scrolled": true
   },
   "outputs": [],
   "source": [
    "#splitting the features and results into train and test\n",
    "nsamples= 1000\n",
    "tflite_model_name ='new_model'\n",
    "train_split =  int(0.8 * nsamples)\n",
    "test_ratio= 0.2\n",
    "test_split = int(test_ratio*nsamples)\n",
    "sample_features_train, sample_features_test= np. split(sample_features,[test_split] )\n",
    "sample_labels_train, sample_labels_test= np. split(sample_labels, [test_split])"
   ]
  },
  {
   "cell_type": "code",
   "execution_count": null,
   "id": "aa6e1431",
   "metadata": {},
   "outputs": [],
   "source": []
  },
  {
   "cell_type": "code",
   "execution_count": 29,
   "id": "d07a7db2",
   "metadata": {},
   "outputs": [],
   "source": [
    "#normalization and training\n",
    "samples_features_train = tf.keras.utils.normalize(sample_features_train, axis=1)\n",
    "sample_features_test = tf.keras.utils.normalize(sample_features_test, axis=1)\n",
    "\n",
    "model = tf.keras.Sequential()\n",
    "model.add(Dense(32, input_shape=(4,)))\n",
    "model.add(tf.keras.layers.Dense(units=128, activation=tf.nn.relu))\n",
    "model.add(tf.keras.layers.Dense(units=128, activation=tf.nn.relu))\n",
    "model.add(tf.keras.layers.Dense(units=1, activation=tf.nn.softmax))\n",
    "              \n"
   ]
  },
  {
   "cell_type": "code",
   "execution_count": 30,
   "id": "37b7639b",
   "metadata": {},
   "outputs": [],
   "source": [
    "#compilation\n",
    "model.compile(optimizer='adam', loss='mae', metrics=['accuracy'])"
   ]
  },
  {
   "cell_type": "code",
   "execution_count": 31,
   "id": "dfc52a54",
   "metadata": {},
   "outputs": [
    {
     "name": "stdout",
     "output_type": "stream",
     "text": [
      "Epoch 1/50\n",
      "7/7 [==============================] - 0s 4ms/step - loss: 0.7050 - accuracy: 0.2950\n",
      "Epoch 2/50\n",
      "7/7 [==============================] - 0s 3ms/step - loss: 0.7050 - accuracy: 0.2950\n",
      "Epoch 3/50\n",
      "7/7 [==============================] - 0s 3ms/step - loss: 0.7050 - accuracy: 0.2950\n",
      "Epoch 4/50\n",
      "7/7 [==============================] - 0s 3ms/step - loss: 0.7050 - accuracy: 0.2950\n",
      "Epoch 5/50\n",
      "7/7 [==============================] - 0s 3ms/step - loss: 0.7050 - accuracy: 0.2950\n",
      "Epoch 6/50\n",
      "7/7 [==============================] - 0s 3ms/step - loss: 0.7050 - accuracy: 0.2950\n",
      "Epoch 7/50\n",
      "7/7 [==============================] - 0s 1ms/step - loss: 0.7050 - accuracy: 0.2950\n",
      "Epoch 8/50\n",
      "7/7 [==============================] - 0s 3ms/step - loss: 0.7050 - accuracy: 0.2950\n",
      "Epoch 9/50\n",
      "7/7 [==============================] - 0s 3ms/step - loss: 0.7050 - accuracy: 0.2950\n",
      "Epoch 10/50\n",
      "7/7 [==============================] - 0s 3ms/step - loss: 0.7050 - accuracy: 0.2950\n",
      "Epoch 11/50\n",
      "7/7 [==============================] - 0s 3ms/step - loss: 0.7050 - accuracy: 0.2950\n",
      "Epoch 12/50\n",
      "7/7 [==============================] - 0s 3ms/step - loss: 0.7050 - accuracy: 0.2950\n",
      "Epoch 13/50\n",
      "7/7 [==============================] - 0s 3ms/step - loss: 0.7050 - accuracy: 0.2950\n",
      "Epoch 14/50\n",
      "7/7 [==============================] - 0s 3ms/step - loss: 0.7050 - accuracy: 0.2950\n",
      "Epoch 15/50\n",
      "7/7 [==============================] - 0s 3ms/step - loss: 0.7050 - accuracy: 0.2950\n",
      "Epoch 16/50\n",
      "7/7 [==============================] - 0s 3ms/step - loss: 0.7050 - accuracy: 0.2950\n",
      "Epoch 17/50\n",
      "7/7 [==============================] - 0s 3ms/step - loss: 0.7050 - accuracy: 0.2950\n",
      "Epoch 18/50\n",
      "7/7 [==============================] - 0s 3ms/step - loss: 0.7050 - accuracy: 0.2950\n",
      "Epoch 19/50\n",
      "7/7 [==============================] - 0s 3ms/step - loss: 0.7050 - accuracy: 0.2950\n",
      "Epoch 20/50\n",
      "7/7 [==============================] - 0s 3ms/step - loss: 0.7050 - accuracy: 0.2950\n",
      "Epoch 21/50\n",
      "7/7 [==============================] - 0s 5ms/step - loss: 0.7050 - accuracy: 0.2950\n",
      "Epoch 22/50\n",
      "7/7 [==============================] - 0s 3ms/step - loss: 0.7050 - accuracy: 0.2950\n",
      "Epoch 23/50\n",
      "7/7 [==============================] - 0s 3ms/step - loss: 0.7050 - accuracy: 0.2950\n",
      "Epoch 24/50\n",
      "7/7 [==============================] - 0s 1ms/step - loss: 0.7050 - accuracy: 0.2950\n",
      "Epoch 25/50\n",
      "7/7 [==============================] - 0s 4ms/step - loss: 0.7050 - accuracy: 0.2950\n",
      "Epoch 26/50\n",
      "7/7 [==============================] - 0s 3ms/step - loss: 0.7050 - accuracy: 0.2950\n",
      "Epoch 27/50\n",
      "7/7 [==============================] - 0s 3ms/step - loss: 0.7050 - accuracy: 0.2950\n",
      "Epoch 28/50\n",
      "7/7 [==============================] - 0s 3ms/step - loss: 0.7050 - accuracy: 0.2950\n",
      "Epoch 29/50\n",
      "7/7 [==============================] - 0s 3ms/step - loss: 0.7050 - accuracy: 0.2950\n",
      "Epoch 30/50\n",
      "7/7 [==============================] - 0s 3ms/step - loss: 0.7050 - accuracy: 0.2950\n",
      "Epoch 31/50\n",
      "7/7 [==============================] - 0s 4ms/step - loss: 0.7050 - accuracy: 0.2950\n",
      "Epoch 32/50\n",
      "7/7 [==============================] - 0s 3ms/step - loss: 0.7050 - accuracy: 0.2950\n",
      "Epoch 33/50\n",
      "7/7 [==============================] - 0s 4ms/step - loss: 0.7050 - accuracy: 0.2950\n",
      "Epoch 34/50\n",
      "7/7 [==============================] - 0s 3ms/step - loss: 0.7050 - accuracy: 0.2950\n",
      "Epoch 35/50\n",
      "7/7 [==============================] - 0s 3ms/step - loss: 0.7050 - accuracy: 0.2950\n",
      "Epoch 36/50\n",
      "7/7 [==============================] - 0s 4ms/step - loss: 0.7050 - accuracy: 0.2950\n",
      "Epoch 37/50\n",
      "7/7 [==============================] - 0s 3ms/step - loss: 0.7050 - accuracy: 0.2950\n",
      "Epoch 38/50\n",
      "7/7 [==============================] - 0s 3ms/step - loss: 0.7050 - accuracy: 0.2950\n",
      "Epoch 39/50\n",
      "7/7 [==============================] - 0s 3ms/step - loss: 0.7050 - accuracy: 0.2950\n",
      "Epoch 40/50\n",
      "7/7 [==============================] - 0s 3ms/step - loss: 0.7050 - accuracy: 0.2950\n",
      "Epoch 41/50\n",
      "7/7 [==============================] - 0s 3ms/step - loss: 0.7050 - accuracy: 0.2950\n",
      "Epoch 42/50\n",
      "7/7 [==============================] - 0s 3ms/step - loss: 0.7050 - accuracy: 0.2950\n",
      "Epoch 43/50\n",
      "7/7 [==============================] - 0s 3ms/step - loss: 0.7050 - accuracy: 0.2950\n",
      "Epoch 44/50\n",
      "7/7 [==============================] - 0s 4ms/step - loss: 0.7050 - accuracy: 0.2950\n",
      "Epoch 45/50\n",
      "7/7 [==============================] - 0s 4ms/step - loss: 0.7050 - accuracy: 0.2950\n",
      "Epoch 46/50\n",
      "7/7 [==============================] - 0s 3ms/step - loss: 0.7050 - accuracy: 0.2950\n",
      "Epoch 47/50\n",
      "7/7 [==============================] - 0s 4ms/step - loss: 0.7050 - accuracy: 0.2950\n",
      "Epoch 48/50\n",
      "7/7 [==============================] - 0s 4ms/step - loss: 0.7050 - accuracy: 0.2950\n",
      "Epoch 49/50\n",
      "7/7 [==============================] - 0s 3ms/step - loss: 0.7050 - accuracy: 0.2950\n",
      "Epoch 50/50\n",
      "7/7 [==============================] - 0s 3ms/step - loss: 0.7050 - accuracy: 0.2950\n",
      "25/25 [==============================] - 0s 2ms/step - loss: 0.5975 - accuracy: 0.4025\n",
      "0.5975000262260437\n",
      "0.4025000035762787\n"
     ]
    }
   ],
   "source": [
    "#train the model\n",
    "model.fit(sample_features_train, sample_labels_train, epochs=50)\n",
    "#testing the model for accuracy\n",
    "loss, accuracy = model.evaluate(sample_features_test, sample_labels_test)\n",
    "print(loss)\n",
    "print(accuracy)"
   ]
  },
  {
   "cell_type": "code",
   "execution_count": 32,
   "id": "b8a6c2f1",
   "metadata": {},
   "outputs": [],
   "source": [
    "model.save(\"new_model.h5\")"
   ]
  },
  {
   "cell_type": "code",
   "execution_count": 33,
   "id": "2e8bcbca",
   "metadata": {},
   "outputs": [
    {
     "name": "stdout",
     "output_type": "stream",
     "text": [
      "Keras2.6.0\n"
     ]
    }
   ],
   "source": [
    "print('Keras'+tf.keras.__version__)"
   ]
  },
  {
   "cell_type": "code",
   "execution_count": 34,
   "id": "4d89f63f",
   "metadata": {},
   "outputs": [
    {
     "name": "stdout",
     "output_type": "stream",
     "text": [
      "Tensorflow2.9.1\n"
     ]
    }
   ],
   "source": [
    "print('Tensorflow'+ tf.__version__)\n"
   ]
  },
  {
   "cell_type": "code",
   "execution_count": 35,
   "id": "0275069c",
   "metadata": {},
   "outputs": [],
   "source": [
    "#convert keras model into tensorflowlite model\n",
    "converter= tf.lite.TFLiteConverter.from_keras_model(model)\n",
    "#converter.optimizations=[tf.lite.Optimize.OPTIMIZE_FOR_SIZE]\n",
    "tflite_model=converter.convert()\n",
    "\n",
    "\n",
    "with open('new_model.tflite', 'wb') as f:\n",
    "    f.write(tflite_model)\n",
    "\n",
    "#open(tflite_model_name + '.tflite', wb).write(tflite_model)"
   ]
  },
  {
   "cell_type": "code",
   "execution_count": null,
   "id": "0408a2b8",
   "metadata": {},
   "outputs": [],
   "source": []
  },
  {
   "cell_type": "code",
   "execution_count": null,
   "id": "75353d8b",
   "metadata": {},
   "outputs": [],
   "source": []
  },
  {
   "cell_type": "code",
   "execution_count": null,
   "id": "3c7a8ce5",
   "metadata": {},
   "outputs": [],
   "source": []
  },
  {
   "cell_type": "code",
   "execution_count": null,
   "id": "995ec0ea",
   "metadata": {},
   "outputs": [],
   "source": []
  }
 ],
 "metadata": {
  "kernelspec": {
   "display_name": "Python 3 (ipykernel)",
   "language": "python",
   "name": "python3"
  },
  "language_info": {
   "codemirror_mode": {
    "name": "ipython",
    "version": 3
   },
   "file_extension": ".py",
   "mimetype": "text/x-python",
   "name": "python",
   "nbconvert_exporter": "python",
   "pygments_lexer": "ipython3",
   "version": "3.10.4"
  }
 },
 "nbformat": 4,
 "nbformat_minor": 5
}
